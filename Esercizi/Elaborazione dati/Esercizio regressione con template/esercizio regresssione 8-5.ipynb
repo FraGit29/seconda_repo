{
 "cells": [
  {
   "cell_type": "code",
   "execution_count": 2,
   "metadata": {},
   "outputs": [],
   "source": [
    "import numpy as np\n",
    "generate_random = np.random.RandomState(667) #667 random valido per tutti\n",
    "x = 10 * generate_random.rand(100) #creiamo un valore di x random moltiplicato per 10\n",
    "\n",
    "noise = np.random.normal(0,1,100) #random da 0 a 100 con media 0 e dev std 1\n",
    "y = noise + 3*x\n",
    "\n"
   ]
  },
  {
   "cell_type": "code",
   "execution_count": 3,
   "metadata": {},
   "outputs": [
    {
     "data": {
      "text/plain": [
       "(0.0, 10.0, 0.0, 30.0)"
      ]
     },
     "execution_count": 3,
     "metadata": {},
     "output_type": "execute_result"
    },
    {
     "data": {
      "image/png": "[encoded data removed]",
      "text/plain": [
       "<Figure size 640x480 with 1 Axes>"
      ]
     },
     "metadata": {},
     "output_type": "display_data"
    }
   ],
   "source": [
    "import matplotlib.pyplot as plt\n",
    "\n",
    "plt.scatter(x,y) #grafico con punti\n",
    "plt.axis([0,10,0,30]) #definisco valore assi"
   ]
  },
  {
   "cell_type": "code",
   "execution_count": 25,
   "metadata": {},
   "outputs": [
    {
     "data": {
      "text/plain": [
       "array([4.86610464, 1.97978517, 5.28346419, 3.68695458, 7.82874919,\n",
       "       2.82652529, 3.41804111, 5.20830197, 2.85638889, 7.34064386,\n",
       "       0.90749449, 1.35425909, 8.51678334, 7.12926457, 9.19199065,\n",
       "       7.85519552, 1.688719  , 6.96251446, 8.88945153, 7.0325431 ,\n",
       "       6.37626004, 9.88851343, 6.04915291, 7.46432785, 2.63776906,\n",
       "       5.30708234, 4.52511282, 3.69299098, 9.23120291, 3.92694281,\n",
       "       5.40312056, 8.86214268, 8.24402473, 4.68679329, 5.69681052,\n",
       "       4.69327739, 6.92866021, 4.15811085, 8.6263374 , 2.67642935,\n",
       "       5.28908438, 4.4469427 , 1.05006349, 2.85510142, 6.89105223,\n",
       "       6.99991668, 3.19455673, 5.24127735, 1.3010091 , 7.22745877,\n",
       "       9.71215386, 0.69770086, 4.70108857, 9.21385919, 4.58632714,\n",
       "       0.82403928, 9.5194292 , 6.50257099, 3.48289144, 2.05546581,\n",
       "       3.09421597, 2.58087765, 8.7305923 , 8.00911493, 9.30729007,\n",
       "       1.96431457, 4.98520709, 7.94063825, 3.50268123, 4.93158549,\n",
       "       1.52092549, 0.83939958, 6.07952866, 2.31087085, 8.02916756,\n",
       "       7.3491579 , 3.41236393, 7.41676453, 8.84061257, 7.40420586,\n",
       "       7.71712   , 9.74908628, 2.19502219, 3.76892286, 6.16216779,\n",
       "       5.9741139 , 6.91338929, 8.01379038, 3.97683571, 7.52575632,\n",
       "       8.59896236, 5.91202905, 5.23231218, 4.95419857, 4.77002411,\n",
       "       7.48610742, 9.69206218, 2.50246651, 7.84851457, 6.75470927])"
      ]
     },
     "execution_count": 25,
     "metadata": {},
     "output_type": "execute_result"
    }
   ],
   "source": [
    "x"
   ]
  },
  {
   "cell_type": "code",
   "execution_count": 4,
   "metadata": {},
   "outputs": [],
   "source": [
    "X=x.reshape(-1,1) #creo il modello a 2 variabili, perchè era a 1 var \n",
    "'''Questa riga di codice indica la trasformazione dell'array X in un nuovo formato in cui viene mantenuta una sola colonna \n",
    "(quindi una colonna e il numero di righe originale).\n",
    "La funzione .reshape() viene utilizzata per modificare la forma di un array numpy. In questo caso, -1 indica che numpy deve \n",
    "calcolare automaticamente il numero di righe necessarie in modo tale da mantenere una sola colonna e reshape crea quindi un \n",
    "nuovo array con le stesse righe dell'array iniziale e una sola colonna.'''"
   ]
  },
  {
   "cell_type": "code",
   "execution_count": 27,
   "metadata": {},
   "outputs": [
    {
     "data": {
      "text/plain": [
       "array([[4.86610464],\n",
       "       [1.97978517],\n",
       "       [5.28346419],\n",
       "       [3.68695458],\n",
       "       [7.82874919],\n",
       "       [2.82652529],\n",
       "       [3.41804111],\n",
       "       [5.20830197],\n",
       "       [2.85638889],\n",
       "       [7.34064386],\n",
       "       [0.90749449],\n",
       "       [1.35425909],\n",
       "       [8.51678334],\n",
       "       [7.12926457],\n",
       "       [9.19199065],\n",
       "       [7.85519552],\n",
       "       [1.688719  ],\n",
       "       [6.96251446],\n",
       "       [8.88945153],\n",
       "       [7.0325431 ],\n",
       "       [6.37626004],\n",
       "       [9.88851343],\n",
       "       [6.04915291],\n",
       "       [7.46432785],\n",
       "       [2.63776906],\n",
       "       [5.30708234],\n",
       "       [4.52511282],\n",
       "       [3.69299098],\n",
       "       [9.23120291],\n",
       "       [3.92694281],\n",
       "       [5.40312056],\n",
       "       [8.86214268],\n",
       "       [8.24402473],\n",
       "       [4.68679329],\n",
       "       [5.69681052],\n",
       "       [4.69327739],\n",
       "       [6.92866021],\n",
       "       [4.15811085],\n",
       "       [8.6263374 ],\n",
       "       [2.67642935],\n",
       "       [5.28908438],\n",
       "       [4.4469427 ],\n",
       "       [1.05006349],\n",
       "       [2.85510142],\n",
       "       [6.89105223],\n",
       "       [6.99991668],\n",
       "       [3.19455673],\n",
       "       [5.24127735],\n",
       "       [1.3010091 ],\n",
       "       [7.22745877],\n",
       "       [9.71215386],\n",
       "       [0.69770086],\n",
       "       [4.70108857],\n",
       "       [9.21385919],\n",
       "       [4.58632714],\n",
       "       [0.82403928],\n",
       "       [9.5194292 ],\n",
       "       [6.50257099],\n",
       "       [3.48289144],\n",
       "       [2.05546581],\n",
       "       [3.09421597],\n",
       "       [2.58087765],\n",
       "       [8.7305923 ],\n",
       "       [8.00911493],\n",
       "       [9.30729007],\n",
       "       [1.96431457],\n",
       "       [4.98520709],\n",
       "       [7.94063825],\n",
       "       [3.50268123],\n",
       "       [4.93158549],\n",
       "       [1.52092549],\n",
       "       [0.83939958],\n",
       "       [6.07952866],\n",
       "       [2.31087085],\n",
       "       [8.02916756],\n",
       "       [7.3491579 ],\n",
       "       [3.41236393],\n",
       "       [7.41676453],\n",
       "       [8.84061257],\n",
       "       [7.40420586],\n",
       "       [7.71712   ],\n",
       "       [9.74908628],\n",
       "       [2.19502219],\n",
       "       [3.76892286],\n",
       "       [6.16216779],\n",
       "       [5.9741139 ],\n",
       "       [6.91338929],\n",
       "       [8.01379038],\n",
       "       [3.97683571],\n",
       "       [7.52575632],\n",
       "       [8.59896236],\n",
       "       [5.91202905],\n",
       "       [5.23231218],\n",
       "       [4.95419857],\n",
       "       [4.77002411],\n",
       "       [7.48610742],\n",
       "       [9.69206218],\n",
       "       [2.50246651],\n",
       "       [7.84851457],\n",
       "       [6.75470927]])"
      ]
     },
     "execution_count": 27,
     "metadata": {},
     "output_type": "execute_result"
    }
   ],
   "source": [
    "X"
   ]
  },
  {
   "cell_type": "code",
   "execution_count": 6,
   "metadata": {},
   "outputs": [],
   "source": [
    "from sklearn.linear_model import LinearRegression\n",
    "model=LinearRegression() #creo un modello con regressione lineare, vuoto che riempirò col fit\n"
   ]
  },
  {
   "cell_type": "code",
   "execution_count": 7,
   "metadata": {},
   "outputs": [
    {
     "data": {
      "text/html": [
       "<style>#sk-container-id-1 {color: black;background-color: white;}#sk-container-id-1 pre{padding: 0;}#sk-container-id-1 div.sk-toggleable {background-color: white;}#sk-container-id-1 label.sk-toggleable__label {cursor: pointer;display: block;width: 100%;margin-bottom: 0;padding: 0.3em;box-sizing: border-box;text-align: center;}#sk-container-id-1 label.sk-toggleable__label-arrow:before {content: \"▸\";float: left;margin-right: 0.25em;color: #696969;}#sk-container-id-1 label.sk-toggleable__label-arrow:hover:before {color: black;}#sk-container-id-1 div.sk-estimator:hover label.sk-toggleable__label-arrow:before {color: black;}#sk-container-id-1 div.sk-toggleable__content {max-height: 0;max-width: 0;overflow: hidden;text-align: left;background-color: #f0f8ff;}#sk-container-id-1 div.sk-toggleable__content pre {margin: 0.2em;color: black;border-radius: 0.25em;background-color: #f0f8ff;}#sk-container-id-1 input.sk-toggleable__control:checked~div.sk-toggleable__content {max-height: 200px;max-width: 100%;overflow: auto;}#sk-container-id-1 input.sk-toggleable__control:checked~label.sk-toggleable__label-arrow:before {content: \"▾\";}#sk-container-id-1 div.sk-estimator input.sk-toggleable__control:checked~label.sk-toggleable__label {background-color: #d4ebff;}#sk-container-id-1 div.sk-label input.sk-toggleable__control:checked~label.sk-toggleable__label {background-color: #d4ebff;}#sk-container-id-1 input.sk-hidden--visually {border: 0;clip: rect(1px 1px 1px 1px);clip: rect(1px, 1px, 1px, 1px);height: 1px;margin: -1px;overflow: hidden;padding: 0;position: absolute;width: 1px;}#sk-container-id-1 div.sk-estimator {font-family: monospace;background-color: #f0f8ff;border: 1px dotted black;border-radius: 0.25em;box-sizing: border-box;margin-bottom: 0.5em;}#sk-container-id-1 div.sk-estimator:hover {background-color: #d4ebff;}#sk-container-id-1 div.sk-parallel-item::after {content: \"\";width: 100%;border-bottom: 1px solid gray;flex-grow: 1;}#sk-container-id-1 div.sk-label:hover label.sk-toggleable__label {background-color: #d4ebff;}#sk-container-id-1 div.sk-serial::before {content: \"\";position: absolute;border-left: 1px solid gray;box-sizing: border-box;top: 0;bottom: 0;left: 50%;z-index: 0;}#sk-container-id-1 div.sk-serial {display: flex;flex-direction: column;align-items: center;background-color: white;padding-right: 0.2em;padding-left: 0.2em;position: relative;}#sk-container-id-1 div.sk-item {position: relative;z-index: 1;}#sk-container-id-1 div.sk-parallel {display: flex;align-items: stretch;justify-content: center;background-color: white;position: relative;}#sk-container-id-1 div.sk-item::before, #sk-container-id-1 div.sk-parallel-item::before {content: \"\";position: absolute;border-left: 1px solid gray;box-sizing: border-box;top: 0;bottom: 0;left: 50%;z-index: -1;}#sk-container-id-1 div.sk-parallel-item {display: flex;flex-direction: column;z-index: 1;position: relative;background-color: white;}#sk-container-id-1 div.sk-parallel-item:first-child::after {align-self: flex-end;width: 50%;}#sk-container-id-1 div.sk-parallel-item:last-child::after {align-self: flex-start;width: 50%;}#sk-container-id-1 div.sk-parallel-item:only-child::after {width: 0;}#sk-container-id-1 div.sk-dashed-wrapped {border: 1px dashed gray;margin: 0 0.4em 0.5em 0.4em;box-sizing: border-box;padding-bottom: 0.4em;background-color: white;}#sk-container-id-1 div.sk-label label {font-family: monospace;font-weight: bold;display: inline-block;line-height: 1.2em;}#sk-container-id-1 div.sk-label-container {text-align: center;}#sk-container-id-1 div.sk-container {/* jupyter's `normalize.less` sets `[hidden] { display: none; }` but bootstrap.min.css set `[hidden] { display: none !important; }` so we also need the `!important` here to be able to override the default hidden behavior on the sphinx rendered scikit-learn.org. See: https://github.com/scikit-learn/scikit-learn/issues/21755 */display: inline-block !important;position: relative;}#sk-container-id-1 div.sk-text-repr-fallback {display: none;}</style><div id=\"sk-container-id-1\" class=\"sk-top-container\"><div class=\"sk-text-repr-fallback\"><pre>LinearRegression()</pre><b>In a Jupyter environment, please rerun this cell to show the HTML representation or trust the notebook. <br />On GitHub, the HTML representation is unable to render, please try loading this page with nbviewer.org.</b></div><div class=\"sk-container\" hidden><div class=\"sk-item\"><div class=\"sk-estimator sk-toggleable\"><input class=\"sk-toggleable__control sk-hidden--visually\" id=\"sk-estimator-id-1\" type=\"checkbox\" checked><label for=\"sk-estimator-id-1\" class=\"sk-toggleable__label sk-toggleable__label-arrow\">LinearRegression</label><div class=\"sk-toggleable__content\"><pre>LinearRegression()</pre></div></div></div></div></div>"
      ],
      "text/plain": [
       "LinearRegression()"
      ]
     },
     "execution_count": 7,
     "metadata": {},
     "output_type": "execute_result"
    }
   ],
   "source": [
    "model #"
   ]
  },
  {
   "cell_type": "code",
   "execution_count": 8,
   "metadata": {},
   "outputs": [
    {
     "data": {
      "text/html": [
       "<style>#sk-container-id-2 {color: black;background-color: white;}#sk-container-id-2 pre{padding: 0;}#sk-container-id-2 div.sk-toggleable {background-color: white;}#sk-container-id-2 label.sk-toggleable__label {cursor: pointer;display: block;width: 100%;margin-bottom: 0;padding: 0.3em;box-sizing: border-box;text-align: center;}#sk-container-id-2 label.sk-toggleable__label-arrow:before {content: \"▸\";float: left;margin-right: 0.25em;color: #696969;}#sk-container-id-2 label.sk-toggleable__label-arrow:hover:before {color: black;}#sk-container-id-2 div.sk-estimator:hover label.sk-toggleable__label-arrow:before {color: black;}#sk-container-id-2 div.sk-toggleable__content {max-height: 0;max-width: 0;overflow: hidden;text-align: left;background-color: #f0f8ff;}#sk-container-id-2 div.sk-toggleable__content pre {margin: 0.2em;color: black;border-radius: 0.25em;background-color: #f0f8ff;}#sk-container-id-2 input.sk-toggleable__control:checked~div.sk-toggleable__content {max-height: 200px;max-width: 100%;overflow: auto;}#sk-container-id-2 input.sk-toggleable__control:checked~label.sk-toggleable__label-arrow:before {content: \"▾\";}#sk-container-id-2 div.sk-estimator input.sk-toggleable__control:checked~label.sk-toggleable__label {background-color: #d4ebff;}#sk-container-id-2 div.sk-label input.sk-toggleable__control:checked~label.sk-toggleable__label {background-color: #d4ebff;}#sk-container-id-2 input.sk-hidden--visually {border: 0;clip: rect(1px 1px 1px 1px);clip: rect(1px, 1px, 1px, 1px);height: 1px;margin: -1px;overflow: hidden;padding: 0;position: absolute;width: 1px;}#sk-container-id-2 div.sk-estimator {font-family: monospace;background-color: #f0f8ff;border: 1px dotted black;border-radius: 0.25em;box-sizing: border-box;margin-bottom: 0.5em;}#sk-container-id-2 div.sk-estimator:hover {background-color: #d4ebff;}#sk-container-id-2 div.sk-parallel-item::after {content: \"\";width: 100%;border-bottom: 1px solid gray;flex-grow: 1;}#sk-container-id-2 div.sk-label:hover label.sk-toggleable__label {background-color: #d4ebff;}#sk-container-id-2 div.sk-serial::before {content: \"\";position: absolute;border-left: 1px solid gray;box-sizing: border-box;top: 0;bottom: 0;left: 50%;z-index: 0;}#sk-container-id-2 div.sk-serial {display: flex;flex-direction: column;align-items: center;background-color: white;padding-right: 0.2em;padding-left: 0.2em;position: relative;}#sk-container-id-2 div.sk-item {position: relative;z-index: 1;}#sk-container-id-2 div.sk-parallel {display: flex;align-items: stretch;justify-content: center;background-color: white;position: relative;}#sk-container-id-2 div.sk-item::before, #sk-container-id-2 div.sk-parallel-item::before {content: \"\";position: absolute;border-left: 1px solid gray;box-sizing: border-box;top: 0;bottom: 0;left: 50%;z-index: -1;}#sk-container-id-2 div.sk-parallel-item {display: flex;flex-direction: column;z-index: 1;position: relative;background-color: white;}#sk-container-id-2 div.sk-parallel-item:first-child::after {align-self: flex-end;width: 50%;}#sk-container-id-2 div.sk-parallel-item:last-child::after {align-self: flex-start;width: 50%;}#sk-container-id-2 div.sk-parallel-item:only-child::after {width: 0;}#sk-container-id-2 div.sk-dashed-wrapped {border: 1px dashed gray;margin: 0 0.4em 0.5em 0.4em;box-sizing: border-box;padding-bottom: 0.4em;background-color: white;}#sk-container-id-2 div.sk-label label {font-family: monospace;font-weight: bold;display: inline-block;line-height: 1.2em;}#sk-container-id-2 div.sk-label-container {text-align: center;}#sk-container-id-2 div.sk-container {/* jupyter's `normalize.less` sets `[hidden] { display: none; }` but bootstrap.min.css set `[hidden] { display: none !important; }` so we also need the `!important` here to be able to override the default hidden behavior on the sphinx rendered scikit-learn.org. See: https://github.com/scikit-learn/scikit-learn/issues/21755 */display: inline-block !important;position: relative;}#sk-container-id-2 div.sk-text-repr-fallback {display: none;}</style><div id=\"sk-container-id-2\" class=\"sk-top-container\"><div class=\"sk-text-repr-fallback\"><pre>LinearRegression()</pre><b>In a Jupyter environment, please rerun this cell to show the HTML representation or trust the notebook. <br />On GitHub, the HTML representation is unable to render, please try loading this page with nbviewer.org.</b></div><div class=\"sk-container\" hidden><div class=\"sk-item\"><div class=\"sk-estimator sk-toggleable\"><input class=\"sk-toggleable__control sk-hidden--visually\" id=\"sk-estimator-id-2\" type=\"checkbox\" checked><label for=\"sk-estimator-id-2\" class=\"sk-toggleable__label sk-toggleable__label-arrow\">LinearRegression</label><div class=\"sk-toggleable__content\"><pre>LinearRegression()</pre></div></div></div></div></div>"
      ],
      "text/plain": [
       "LinearRegression()"
      ]
     },
     "execution_count": 8,
     "metadata": {},
     "output_type": "execute_result"
    }
   ],
   "source": [
    "model.fit(X,y) #creato con miei valori definiti prima\n",
    "'''#quando attribuisco ad un oggetto una classe, esso va a ereditare tutti i metodi di una classe.\n",
    "Eredita anche il metodo fit che sarebbe impara, ossia crea tante iterazioni finchè non troverà \n",
    "l’ottima.Gli dico di testare, imparare su questa matrice X e vettore y'''"
   ]
  },
  {
   "cell_type": "code",
   "execution_count": null,
   "metadata": {},
   "outputs": [],
   "source": [
    "'''Lui stampa questo,rettangolo, ci fa vedere il primo mattoncino azzurro che aperto ci fa \n",
    "vedere cosa c’è dentro, perché avrei potuto utilizzare anche altre sottoclassi'''"
   ]
  },
  {
   "cell_type": "code",
   "execution_count": 9,
   "metadata": {},
   "outputs": [
    {
     "data": {
      "text/plain": [
       "0.3726308790623811"
      ]
     },
     "execution_count": 9,
     "metadata": {},
     "output_type": "execute_result"
    }
   ],
   "source": [
    "model.intercept_ #valore dell'intercetta, ossia di y se x=0"
   ]
  },
  {
   "cell_type": "code",
   "execution_count": 10,
   "metadata": {},
   "outputs": [
    {
     "data": {
      "text/plain": [
       "array([2.9474088])"
      ]
     },
     "execution_count": 10,
     "metadata": {},
     "output_type": "execute_result"
    }
   ],
   "source": [
    "model.coef_# valore del coeff.angolare (definito prima=3)"
   ]
  },
  {
   "cell_type": "code",
   "execution_count": 11,
   "metadata": {},
   "outputs": [],
   "source": [
    "y_pred=model.predict(X) #creo un modello predittivo di y (ossia i punti della retta interpolante)"
   ]
  },
  {
   "cell_type": "code",
   "execution_count": 12,
   "metadata": {},
   "outputs": [
    {
     "data": {
      "text/plain": [
       "[<matplotlib.lines.Line2D at 0x1cc79d9b520>]"
      ]
     },
     "execution_count": 12,
     "metadata": {},
     "output_type": "execute_result"
    },
    {
     "data": {
      "image/png": "[encoded data removed]",
      "text/plain": [
       "<Figure size 640x480 with 1 Axes>"
      ]
     },
     "metadata": {},
     "output_type": "display_data"
    }
   ],
   "source": [
    "plt.plot(X,y,'*') #definisco i punti della distribuzione (blu) \n",
    "plt.plot(X,y_pred,'-r') #definisco i punti della retta interpolante, con X grande, Y predittivo e con colore rosso, - sta per retta"
   ]
  },
  {
   "cell_type": "code",
   "execution_count": 13,
   "metadata": {},
   "outputs": [],
   "source": [
    "#ora applico il modello su dati di test e train e li confornto. I dati di test sono dati che non ha mai\n",
    "# visto\n",
    "from sklearn.model_selection import train_test_split"
   ]
  },
  {
   "cell_type": "code",
   "execution_count": 14,
   "metadata": {},
   "outputs": [
    {
     "data": {
      "text/plain": [
       "'La linea di codice separa i dati in due insiemi distinti: uno per il training (X_train e y_train) \\ne uno per il testing (X_test e y_test). Il dataset originale è composto da due array: \\nX (contenente le features) e y (contenente la variabile target). \\nLa funzione train_test_split della libreria scikit-learn viene utilizzata per suddividere questi due\\n array in modo casuale, utilizzando il 20% dei dati per il test \\n (impostato con il parametro test_size=0.2) e il 80% per il training. \\n Il parametro random_state=667 serve invece per impostare un seed per la generazione dei numeri casuali,\\n   in modo da permettere la ripetizione della suddivisione del dataset in futuro.'"
      ]
     },
     "execution_count": 14,
     "metadata": {},
     "output_type": "execute_result"
    }
   ],
   "source": [
    "# definisco le variabili, già definite nell'esercizio precedente, chiedendo di usare il 20% dei dati totali\n",
    "X_train, X_test, y_train, y_test = train_test_split(X, y, \n",
    "                                                    test_size = 0.2, \n",
    "                                                    random_state = 667\n",
    "                                                    )\n",
    "'''La linea di codice separa i dati in due insiemi distinti: uno per il training (X_train e y_train) \n",
    "e uno per il testing (X_test e y_test). Il dataset originale è composto da due array: \n",
    "X (contenente le features) e y (contenente la variabile target). \n",
    "La funzione train_test_split della libreria scikit-learn viene utilizzata per suddividere questi due\n",
    " array in modo casuale, utilizzando il 20% dei dati per il test \n",
    " (impostato con il parametro test_size=0.2) e il 80% per il training. \n",
    " Il parametro random_state=667 serve invece per impostare un seed per la generazione dei numeri casuali,\n",
    "   in modo da permettere la ripetizione della suddivisione del dataset in futuro.'''"
   ]
  },
  {
   "cell_type": "code",
   "execution_count": 15,
   "metadata": {},
   "outputs": [
    {
     "data": {
      "text/plain": [
       "((80, 1), (20, 1))"
      ]
     },
     "execution_count": 15,
     "metadata": {},
     "output_type": "execute_result"
    }
   ],
   "source": [
    "X_train.shape, X_test.shape #restituisce il formato, 80% dati per train, 20% per test"
   ]
  },
  {
   "cell_type": "code",
   "execution_count": 16,
   "metadata": {},
   "outputs": [
    {
     "data": {
      "text/plain": [
       "\"model.fit(X_train,y_train) è un metodo in cui X_train rappresenta l'input di addestramento (features)\\n e y_train rappresenta la variabile di output (target). Esso utilizza l'algoritmo del modello per \\n addestrare il modello con i dati di addestramento forniti e fornire un modello addestrato in grado di\\n  fare previsioni accettabili sui dati di prova. In sostanza, model.fit (X_train, y_train) \\n  serve ad addestrare il modello sui dati di addestramento per fare previsioni su nuovi dati non visti.\""
      ]
     },
     "execution_count": 16,
     "metadata": {},
     "output_type": "execute_result"
    }
   ],
   "source": [
    "model.fit(X_train,y_train) #il modello viene creato usando i dati di train, l'80% dei dati reali\n",
    "'''model.fit(X_train,y_train) è un metodo in cui X_train rappresenta l'input di addestramento (features)\n",
    " e y_train rappresenta la variabile di output (target). Esso utilizza l'algoritmo del modello per \n",
    " addestrare il modello con i dati di addestramento forniti e fornire un modello addestrato in grado di\n",
    "  fare previsioni accettabili sui dati di prova. In sostanza, model.fit (X_train, y_train) \n",
    "  serve ad addestrare il modello sui dati di addestramento per fare previsioni su nuovi dati non visti.'''"
   ]
  },
  {
   "cell_type": "code",
   "execution_count": 17,
   "metadata": {},
   "outputs": [
    {
     "data": {
      "text/plain": [
       "'y_pred è la variabile che contiene le previsioni del modello per il set di dati di test(X_test).\\n La funzione model.predict() viene utilizzata per generare le previsioni del modello.'"
      ]
     },
     "execution_count": 17,
     "metadata": {},
     "output_type": "execute_result"
    }
   ],
   "source": [
    "y_pred=model.predict(X_test) #predici i valori con il modello usando 20% dei dati, mai visti nell'allenamento\n",
    "'''y_pred è la variabile che contiene le previsioni del modello per il set di dati di test(X_test).\n",
    " La funzione model.predict() viene utilizzata per generare le previsioni del modello.'''"
   ]
  },
  {
   "cell_type": "code",
   "execution_count": 18,
   "metadata": {},
   "outputs": [
    {
     "data": {
      "text/plain": [
       "'La funzione pd.DataFrame() produce un oggetto pandas DataFrame, che è una struttura dati tabulare in\\ncui le colonne possono avere tipi di dati diversi. La funzione prende come input una lista (zip) di tuple (y_pred, y_test) e crea un DataFrame con due colonne: la prima contenente i valori predetti (y_pred) e la seconda contenente i valori reali (y_test).'"
      ]
     },
     "execution_count": 18,
     "metadata": {},
     "output_type": "execute_result"
    }
   ],
   "source": [
    "import pandas as pd\n",
    "pd.DataFrame(list(zip(y_pred,y_test))) #cfr i dati predittivi basati sul 20% con i dati reali (sempre il 20%)\n",
    "'''La funzione pd.DataFrame() produce un oggetto pandas DataFrame, che è una struttura dati tabulare in\n",
    "cui le colonne possono avere tipi di dati diversi. La funzione prende come input una lista (zip) di tuple (y_pred, y_test) e crea un DataFrame con due colonne: la prima contenente i valori predetti (y_pred) e la seconda contenente i valori reali (y_test).'''"
   ]
  },
  {
   "cell_type": "code",
   "execution_count": 19,
   "metadata": {},
   "outputs": [
    {
     "data": {
      "text/plain": [
       "[<matplotlib.lines.Line2D at 0x1cc7bd391b0>]"
      ]
     },
     "execution_count": 19,
     "metadata": {},
     "output_type": "execute_result"
    },
    {
     "data": {
      "image/png": "[encoded data removed]",
      "text/plain": [
       "<Figure size 640x480 with 1 Axes>"
      ]
     },
     "metadata": {},
     "output_type": "display_data"
    }
   ],
   "source": [
    "plt.plot(X_test,y_test,'o')#stampa il grafico, facoltativo\n",
    "plt.plot(X_test, y_pred,'o')"
   ]
  },
  {
   "cell_type": "code",
   "execution_count": 20,
   "metadata": {},
   "outputs": [
    {
     "data": {
      "text/html": [
       "<div>\n",
       "<style scoped>\n",
       "    .dataframe tbody tr th:only-of-type {\n",
       "        vertical-align: middle;\n",
       "    }\n",
       "\n",
       "    .dataframe tbody tr th {\n",
       "        vertical-align: top;\n",
       "    }\n",
       "\n",
       "    .dataframe thead th {\n",
       "        text-align: right;\n",
       "    }\n",
       "</style>\n",
       "<table border=\"1\" class=\"dataframe\">\n",
       "  <thead>\n",
       "    <tr style=\"text-align: right;\">\n",
       "      <th></th>\n",
       "      <th>predicted</th>\n",
       "      <th>real</th>\n",
       "    </tr>\n",
       "  </thead>\n",
       "  <tbody>\n",
       "    <tr>\n",
       "      <th>0</th>\n",
       "      <td>13.532942</td>\n",
       "      <td>13.180489</td>\n",
       "    </tr>\n",
       "    <tr>\n",
       "      <th>1</th>\n",
       "      <td>9.517266</td>\n",
       "      <td>10.177914</td>\n",
       "    </tr>\n",
       "    <tr>\n",
       "      <th>2</th>\n",
       "      <td>26.575900</td>\n",
       "      <td>25.655748</td>\n",
       "    </tr>\n",
       "    <tr>\n",
       "      <th>3</th>\n",
       "      <td>10.461713</td>\n",
       "      <td>9.799875</td>\n",
       "    </tr>\n",
       "    <tr>\n",
       "      <th>4</th>\n",
       "      <td>10.478566</td>\n",
       "      <td>10.519937</td>\n",
       "    </tr>\n",
       "    <tr>\n",
       "      <th>5</th>\n",
       "      <td>23.240723</td>\n",
       "      <td>22.068981</td>\n",
       "    </tr>\n",
       "    <tr>\n",
       "      <th>6</th>\n",
       "      <td>10.671080</td>\n",
       "      <td>9.910712</td>\n",
       "    </tr>\n",
       "    <tr>\n",
       "      <th>7</th>\n",
       "      <td>17.243274</td>\n",
       "      <td>15.556697</td>\n",
       "    </tr>\n",
       "    <tr>\n",
       "      <th>8</th>\n",
       "      <td>6.847938</td>\n",
       "      <td>6.669745</td>\n",
       "    </tr>\n",
       "    <tr>\n",
       "      <th>9</th>\n",
       "      <td>7.760611</td>\n",
       "      <td>7.223220</td>\n",
       "    </tr>\n",
       "    <tr>\n",
       "      <th>10</th>\n",
       "      <td>10.729827</td>\n",
       "      <td>10.690182</td>\n",
       "    </tr>\n",
       "    <tr>\n",
       "      <th>11</th>\n",
       "      <td>27.683912</td>\n",
       "      <td>27.070432</td>\n",
       "    </tr>\n",
       "    <tr>\n",
       "      <th>12</th>\n",
       "      <td>8.162267</td>\n",
       "      <td>7.927114</td>\n",
       "    </tr>\n",
       "    <tr>\n",
       "      <th>13</th>\n",
       "      <td>21.495627</td>\n",
       "      <td>22.910534</td>\n",
       "    </tr>\n",
       "    <tr>\n",
       "      <th>14</th>\n",
       "      <td>8.807435</td>\n",
       "      <td>8.489106</td>\n",
       "    </tr>\n",
       "    <tr>\n",
       "      <th>15</th>\n",
       "      <td>12.675522</td>\n",
       "      <td>14.131245</td>\n",
       "    </tr>\n",
       "    <tr>\n",
       "      <th>16</th>\n",
       "      <td>29.272776</td>\n",
       "      <td>29.580635</td>\n",
       "    </tr>\n",
       "    <tr>\n",
       "      <th>17</th>\n",
       "      <td>29.686676</td>\n",
       "      <td>27.915909</td>\n",
       "    </tr>\n",
       "    <tr>\n",
       "      <th>18</th>\n",
       "      <td>14.287394</td>\n",
       "      <td>13.697107</td>\n",
       "    </tr>\n",
       "    <tr>\n",
       "      <th>19</th>\n",
       "      <td>26.639814</td>\n",
       "      <td>24.952905</td>\n",
       "    </tr>\n",
       "  </tbody>\n",
       "</table>\n",
       "</div>"
      ],
      "text/plain": [
       "    predicted       real\n",
       "0   13.532942  13.180489\n",
       "1    9.517266  10.177914\n",
       "2   26.575900  25.655748\n",
       "3   10.461713   9.799875\n",
       "4   10.478566  10.519937\n",
       "5   23.240723  22.068981\n",
       "6   10.671080   9.910712\n",
       "7   17.243274  15.556697\n",
       "8    6.847938   6.669745\n",
       "9    7.760611   7.223220\n",
       "10  10.729827  10.690182\n",
       "11  27.683912  27.070432\n",
       "12   8.162267   7.927114\n",
       "13  21.495627  22.910534\n",
       "14   8.807435   8.489106\n",
       "15  12.675522  14.131245\n",
       "16  29.272776  29.580635\n",
       "17  29.686676  27.915909\n",
       "18  14.287394  13.697107\n",
       "19  26.639814  24.952905"
      ]
     },
     "execution_count": 20,
     "metadata": {},
     "output_type": "execute_result"
    }
   ],
   "source": [
    "res_df = pd.DataFrame(data=list(zip(y_pred, y_test)),columns=['predicted', 'real'])\n",
    "res_df"
   ]
  },
  {
   "cell_type": "code",
   "execution_count": 21,
   "metadata": {},
   "outputs": [
    {
     "data": {
      "text/html": [
       "<div>\n",
       "<style scoped>\n",
       "    .dataframe tbody tr th:only-of-type {\n",
       "        vertical-align: middle;\n",
       "    }\n",
       "\n",
       "    .dataframe tbody tr th {\n",
       "        vertical-align: top;\n",
       "    }\n",
       "\n",
       "    .dataframe thead th {\n",
       "        text-align: right;\n",
       "    }\n",
       "</style>\n",
       "<table border=\"1\" class=\"dataframe\">\n",
       "  <thead>\n",
       "    <tr style=\"text-align: right;\">\n",
       "      <th></th>\n",
       "      <th>predicted</th>\n",
       "      <th>real</th>\n",
       "      <th>error</th>\n",
       "    </tr>\n",
       "  </thead>\n",
       "  <tbody>\n",
       "    <tr>\n",
       "      <th>0</th>\n",
       "      <td>13.532942</td>\n",
       "      <td>13.180489</td>\n",
       "      <td>-0.352453</td>\n",
       "    </tr>\n",
       "    <tr>\n",
       "      <th>1</th>\n",
       "      <td>9.517266</td>\n",
       "      <td>10.177914</td>\n",
       "      <td>0.660648</td>\n",
       "    </tr>\n",
       "    <tr>\n",
       "      <th>2</th>\n",
       "      <td>26.575900</td>\n",
       "      <td>25.655748</td>\n",
       "      <td>-0.920152</td>\n",
       "    </tr>\n",
       "    <tr>\n",
       "      <th>3</th>\n",
       "      <td>10.461713</td>\n",
       "      <td>9.799875</td>\n",
       "      <td>-0.661838</td>\n",
       "    </tr>\n",
       "    <tr>\n",
       "      <th>4</th>\n",
       "      <td>10.478566</td>\n",
       "      <td>10.519937</td>\n",
       "      <td>0.041371</td>\n",
       "    </tr>\n",
       "    <tr>\n",
       "      <th>5</th>\n",
       "      <td>23.240723</td>\n",
       "      <td>22.068981</td>\n",
       "      <td>-1.171742</td>\n",
       "    </tr>\n",
       "    <tr>\n",
       "      <th>6</th>\n",
       "      <td>10.671080</td>\n",
       "      <td>9.910712</td>\n",
       "      <td>-0.760367</td>\n",
       "    </tr>\n",
       "    <tr>\n",
       "      <th>7</th>\n",
       "      <td>17.243274</td>\n",
       "      <td>15.556697</td>\n",
       "      <td>-1.686577</td>\n",
       "    </tr>\n",
       "    <tr>\n",
       "      <th>8</th>\n",
       "      <td>6.847938</td>\n",
       "      <td>6.669745</td>\n",
       "      <td>-0.178193</td>\n",
       "    </tr>\n",
       "    <tr>\n",
       "      <th>9</th>\n",
       "      <td>7.760611</td>\n",
       "      <td>7.223220</td>\n",
       "      <td>-0.537390</td>\n",
       "    </tr>\n",
       "    <tr>\n",
       "      <th>10</th>\n",
       "      <td>10.729827</td>\n",
       "      <td>10.690182</td>\n",
       "      <td>-0.039645</td>\n",
       "    </tr>\n",
       "    <tr>\n",
       "      <th>11</th>\n",
       "      <td>27.683912</td>\n",
       "      <td>27.070432</td>\n",
       "      <td>-0.613480</td>\n",
       "    </tr>\n",
       "    <tr>\n",
       "      <th>12</th>\n",
       "      <td>8.162267</td>\n",
       "      <td>7.927114</td>\n",
       "      <td>-0.235153</td>\n",
       "    </tr>\n",
       "    <tr>\n",
       "      <th>13</th>\n",
       "      <td>21.495627</td>\n",
       "      <td>22.910534</td>\n",
       "      <td>1.414907</td>\n",
       "    </tr>\n",
       "    <tr>\n",
       "      <th>14</th>\n",
       "      <td>8.807435</td>\n",
       "      <td>8.489106</td>\n",
       "      <td>-0.318329</td>\n",
       "    </tr>\n",
       "    <tr>\n",
       "      <th>15</th>\n",
       "      <td>12.675522</td>\n",
       "      <td>14.131245</td>\n",
       "      <td>1.455723</td>\n",
       "    </tr>\n",
       "    <tr>\n",
       "      <th>16</th>\n",
       "      <td>29.272776</td>\n",
       "      <td>29.580635</td>\n",
       "      <td>0.307859</td>\n",
       "    </tr>\n",
       "    <tr>\n",
       "      <th>17</th>\n",
       "      <td>29.686676</td>\n",
       "      <td>27.915909</td>\n",
       "      <td>-1.770767</td>\n",
       "    </tr>\n",
       "    <tr>\n",
       "      <th>18</th>\n",
       "      <td>14.287394</td>\n",
       "      <td>13.697107</td>\n",
       "      <td>-0.590287</td>\n",
       "    </tr>\n",
       "    <tr>\n",
       "      <th>19</th>\n",
       "      <td>26.639814</td>\n",
       "      <td>24.952905</td>\n",
       "      <td>-1.686909</td>\n",
       "    </tr>\n",
       "  </tbody>\n",
       "</table>\n",
       "</div>"
      ],
      "text/plain": [
       "    predicted       real     error\n",
       "0   13.532942  13.180489 -0.352453\n",
       "1    9.517266  10.177914  0.660648\n",
       "2   26.575900  25.655748 -0.920152\n",
       "3   10.461713   9.799875 -0.661838\n",
       "4   10.478566  10.519937  0.041371\n",
       "5   23.240723  22.068981 -1.171742\n",
       "6   10.671080   9.910712 -0.760367\n",
       "7   17.243274  15.556697 -1.686577\n",
       "8    6.847938   6.669745 -0.178193\n",
       "9    7.760611   7.223220 -0.537390\n",
       "10  10.729827  10.690182 -0.039645\n",
       "11  27.683912  27.070432 -0.613480\n",
       "12   8.162267   7.927114 -0.235153\n",
       "13  21.495627  22.910534  1.414907\n",
       "14   8.807435   8.489106 -0.318329\n",
       "15  12.675522  14.131245  1.455723\n",
       "16  29.272776  29.580635  0.307859\n",
       "17  29.686676  27.915909 -1.770767\n",
       "18  14.287394  13.697107 -0.590287\n",
       "19  26.639814  24.952905 -1.686909"
      ]
     },
     "execution_count": 21,
     "metadata": {},
     "output_type": "execute_result"
    }
   ],
   "source": [
    "res_df['error'] = res_df['real'] - res_df['predicted']\n",
    "res_df"
   ]
  },
  {
   "cell_type": "code",
   "execution_count": 22,
   "metadata": {},
   "outputs": [
    {
     "data": {
      "text/plain": [
       "(20,)"
      ]
     },
     "execution_count": 22,
     "metadata": {},
     "output_type": "execute_result"
    }
   ],
   "source": [
    "y_test.shape"
   ]
  },
  {
   "cell_type": "code",
   "execution_count": 23,
   "metadata": {},
   "outputs": [
    {
     "data": {
      "text/plain": [
       "(20,)"
      ]
     },
     "execution_count": 23,
     "metadata": {},
     "output_type": "execute_result"
    }
   ],
   "source": [
    "y_pred.shape"
   ]
  },
  {
   "cell_type": "code",
   "execution_count": 24,
   "metadata": {},
   "outputs": [
    {
     "data": {
      "image/png": "[encoded data removed]",
      "text/plain": [
       "<Figure size 1000x800 with 1 Axes>"
      ]
     },
     "metadata": {},
     "output_type": "display_data"
    }
   ],
   "source": [
    "plt.figure(figsize = (10, 8))\n",
    "\n",
    "plt.scatter(X_train, y_train,label='Training_set')\n",
    "plt.scatter(X_test, y_test,color='orange',label='Test_set')\n",
    "plt.plot(X_test, y_pred,color='red',label='regression line')\n",
    "plt.xlabel('Hours of study')\n",
    "plt.ylabel('Test scores')\n",
    "plt.legend();"
   ]
  }
 ],
 "metadata": {
  "kernelspec": {
   "display_name": "Python 3",
   "language": "python",
   "name": "python3"
  },
  "language_info": {
   "codemirror_mode": {
    "name": "ipython",
    "version": 3
   },
   "file_extension": ".py",
   "mimetype": "text/x-python",
   "name": "python",
   "nbconvert_exporter": "python",
   "pygments_lexer": "ipython3",
   "version": "3.10.9"
  },
  "orig_nbformat": 4
 },
 "nbformat": 4,
 "nbformat_minor": 2
}
